{
 "cells": [
  {
   "cell_type": "code",
   "execution_count": null,
   "metadata": {},
   "outputs": [],
   "source": []
  },
  {
   "attachments": {},
   "cell_type": "markdown",
   "metadata": {},
   "source": [
    "# filter and reduce\n",
    "# map and reduce\n",
    "# reduce for validation\n",
    "# reduce vs accumulate\n",
    "# reduce vs loops - performance benchmark\n",
    "# reduce vs list comprehension"
   ]
  }
 ],
 "metadata": {
  "language_info": {
   "name": "python"
  },
  "orig_nbformat": 4
 },
 "nbformat": 4,
 "nbformat_minor": 2
}
