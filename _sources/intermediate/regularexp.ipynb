{
 "cells": [
  {
   "attachments": {},
   "cell_type": "markdown",
   "metadata": {},
   "source": [
    "# Regular expression\n",
    "\n",
    "## Introduction\n",
    "Regular expressions (also known as \"regex\") are powerful tools that provide a way to match patterns within strings of text. They offer an efficient way to search, replace, and parse text data based on patterns defined by a specific syntax.\n",
    "\n",
    "A regular expression is a sequence of characters that forms a search pattern. They can be used to perform 'match' operations to check if a string contains the specified search pattern.\n",
    "\n"
   ]
  },
  {
   "attachments": {},
   "cell_type": "markdown",
   "metadata": {},
   "source": [
    "## Regular Expression Patterns\n",
    "Regular expressions use specific syntax to represent patterns:\n",
    "\n",
    "`.`: Matches any character except newline.\n",
    "\n",
    "`^`: Matches start of the string.\n",
    "\n",
    "`$`: Matches end of the string.\n",
    "\n",
    "`*`: Matches 0 or more repetitions.\n",
    "\n",
    "`+`: Matches 1 or more repetitions.\n",
    "\n",
    "`?`: Matches 0 or 1 repetitions.\n",
    "\n",
    "`{n}`: Exactly n repetitions.\n",
    "\n",
    "`{n,}`: n or more repetitions.\n",
    "\n",
    "`{,n}`: Less than or equal to n repetitions.\n",
    "\n",
    "`{m,n}`: Between m and n repetitions.\n",
    "\n",
    "`\\`: Escape special characters.\n",
    "\n",
    "`[]`: Indicates a set of characters.\n",
    "\n",
    "`|`: Means OR (Matches with any of the characters separated by it).\n",
    "\n",
    "`()`: Group sub-patterns.\n",
    "\n",
    "Special Sequences\n",
    "\n",
    "`\\d`: Matches any decimal digit; this is equivalent to the class `[0-9]`.\n",
    "\n",
    "`\\D`: Matches any non-digit character.\n",
    "\n",
    "`\\s`: Matches any whitespace character.\n",
    "\n",
    "`\\S`: Matches any non-whitespace character.\n",
    "\n",
    "`\\w`: Matches any alphanumeric character; this is equivalent to the class `[a-zA-Z0-9_]`.\n",
    "\n",
    "`\\W`: Matches any non-alphanumeric character.\n"
   ]
  },
  {
   "cell_type": "markdown",
   "metadata": {},
   "source": [
    "Several on-line visual tools are available to validate the patterns we have written. One of them is https://regex101.com/. All we need to do is paste the text and provide a pattern, and the tool will visualize which parts of the text fit correctly.\n",
    "\n",
    "## Python's re Module\n",
    "Python's built-in re module allows us to work with regular expressions. To use it, you need to import the module using the import statement:"
   ]
  },
  {
   "cell_type": "code",
   "execution_count": 2,
   "metadata": {},
   "outputs": [],
   "source": [
    "import re\n"
   ]
  },
  {
   "attachments": {},
   "cell_type": "markdown",
   "metadata": {},
   "source": [
    "## Using the re Module\n",
    "The re module offers functions like match(), search(), findall(), split(), sub(), which we'll dive into during this lecture.\n",
    "\n",
    "### re.match()\n",
    "The re.match() function will try to match the regular expression pattern to the string with optional flags. "
   ]
  },
  {
   "cell_type": "code",
   "execution_count": 18,
   "metadata": {},
   "outputs": [
    {
     "name": "stdout",
     "output_type": "stream",
     "text": [
      "Match found!\n"
     ]
    }
   ],
   "source": [
    "import re\n",
    "\n",
    "pattern = r\"Python\"\n",
    "string = \"Python is amazing\"\n",
    "\n",
    "match = re.match(pattern, string)\n",
    "\n",
    "if match:\n",
    "    print(\"Match found!\")\n",
    "else:\n",
    "    print(\"No match found.\")\n"
   ]
  },
  {
   "attachments": {},
   "cell_type": "markdown",
   "metadata": {},
   "source": [
    "Here, r\"Python\" is a raw string which is used to write regular expressions in Python. The match() function only checks if the RE matches at the beginning of the string.\n",
    "\n",
    "### re.search()\n",
    "The re.search() function is similar to match(), but it doesn't limit us to finding matches at the beginning of the string: i.e you want to locate a match anywhere in the string\n",
    "\n",
    "The method looks for the first location where the RegEx pattern produces a match with the string.\n",
    "\n",
    "If the search is successful, `re.search()` returns a match object; if not, it returns `None`"
   ]
  },
  {
   "cell_type": "code",
   "execution_count": 4,
   "metadata": {},
   "outputs": [
    {
     "name": "stdout",
     "output_type": "stream",
     "text": [
      "Match found!\n"
     ]
    }
   ],
   "source": [
    "import re\n",
    "\n",
    "pattern = r\"amazing\"\n",
    "string = \"Python is amazing\"\n",
    "\n",
    "match = re.search(pattern, string)\n",
    "\n",
    "if match:\n",
    "    print(\"Match found!\")\n",
    "else:\n",
    "    print(\"No match found.\")\n"
   ]
  },
  {
   "attachments": {},
   "cell_type": "markdown",
   "metadata": {},
   "source": [
    "### re.findall()\n",
    "The re.findall() function returns all non-overlapping matches of the RE pattern in string as a list of strings:"
   ]
  },
  {
   "cell_type": "code",
   "execution_count": 5,
   "metadata": {},
   "outputs": [
    {
     "name": "stdout",
     "output_type": "stream",
     "text": [
      "['This', 'code']\n"
     ]
    }
   ],
   "source": [
    "import re\n",
    "\n",
    "pattern = r\"\\b\\w{4}\\b\"\n",
    "string = \"This is a Python code\"\n",
    "\n",
    "matches = re.findall(pattern, string)\n",
    "\n",
    "print(matches)  # ['This', 'code']\n"
   ]
  },
  {
   "attachments": {},
   "cell_type": "markdown",
   "metadata": {},
   "source": [
    "The pattern \\b\\w{4}\\b matches any four-letter word.\n",
    "\n",
    "### re.split()\n",
    "The re.split() function splits the string by the occurrences of the pattern:"
   ]
  },
  {
   "cell_type": "code",
   "execution_count": 6,
   "metadata": {},
   "outputs": [
    {
     "name": "stdout",
     "output_type": "stream",
     "text": [
      "['This', 'is', 'a', 'Python', 'code']\n"
     ]
    }
   ],
   "source": [
    "import re\n",
    "\n",
    "pattern = r\"\\s\"\n",
    "string = \"This is a Python code\"\n",
    "\n",
    "split = re.split(pattern, string)\n",
    "\n",
    "print(split)  # ['This', 'is', 'a', 'Python', 'code']\n"
   ]
  },
  {
   "attachments": {},
   "cell_type": "markdown",
   "metadata": {},
   "source": [
    "### re.sub()\n",
    "The re.sub() function replaces the occurrences of the RE pattern in string with repl, substituting all occurrences unless max provided. This count is set to 1 by default:"
   ]
  },
  {
   "cell_type": "code",
   "execution_count": 7,
   "metadata": {},
   "outputs": [
    {
     "name": "stdout",
     "output_type": "stream",
     "text": [
      "This is a JavaScript code\n"
     ]
    }
   ],
   "source": [
    "import re\n",
    "\n",
    "pattern = r\"Python\"\n",
    "repl = \"JavaScript\"\n",
    "string = \"This is a Python code\"\n",
    "\n",
    "new_string = re.sub(pattern, repl, string)\n",
    "\n",
    "print(new_string)  # 'This is a JavaScript code'\n"
   ]
  },
  {
   "attachments": {},
   "cell_type": "markdown",
   "metadata": {},
   "source": [
    "Note: We will be using the re module in Python and findall() function for these examples which returns all non-overlapping matches of pattern in string, as a list of strings."
   ]
  },
  {
   "cell_type": "markdown",
   "metadata": {},
   "source": [
    "###  re.subn()\n",
    "\n",
    "The `re.subn()` is similar to `re.sub()` except it returns a tuple of 2 items containing the new string and the number of substitutions made."
   ]
  },
  {
   "cell_type": "code",
   "execution_count": 8,
   "metadata": {},
   "outputs": [
    {
     "name": "stdout",
     "output_type": "stream",
     "text": [
      "('abc12de23f456', 4)\n"
     ]
    }
   ],
   "source": [
    "\n",
    "# Program to remove all whitespaces\n",
    "import re\n",
    "\n",
    "# multiline string\n",
    "string = 'abc 12\\\n",
    "de 23 \\n f45 6'\n",
    "\n",
    "# matches all whitespace characters\n",
    "pattern = '\\s+'\n",
    "\n",
    "# empty string\n",
    "replace = ''\n",
    "\n",
    "new_string = re.subn(pattern, replace, string) \n",
    "print(new_string)\n",
    "\n",
    "# Output: ('abc12de23f456', 4)\n"
   ]
  },
  {
   "cell_type": "markdown",
   "metadata": {},
   "source": [
    "Matching Any Single Character (.):"
   ]
  },
  {
   "cell_type": "code",
   "execution_count": 9,
   "metadata": {},
   "outputs": [
    {
     "name": "stdout",
     "output_type": "stream",
     "text": [
      "['acb', 'axb', 'a2b', 'a_b', 'aeb']\n"
     ]
    }
   ],
   "source": [
    "import re\n",
    "\n",
    "pattern = r\"a.b\"  # Matches any character between 'a' and 'b'\n",
    "string = \"acb axb a2b a_b aeb a-zb\"\n",
    "\n",
    "matches = re.findall(pattern, string)\n",
    "print(matches)  # Output: ['acb', 'axb', 'a2b', 'a_b', 'aeb', 'a-zb']\n"
   ]
  },
  {
   "attachments": {},
   "cell_type": "markdown",
   "metadata": {},
   "source": [
    "In this case, the dot . matches any character except the newline character (\\n).\n",
    "\n",
    "Matching Start and End of String (^ and $):"
   ]
  },
  {
   "cell_type": "code",
   "execution_count": 10,
   "metadata": {},
   "outputs": [
    {
     "name": "stdout",
     "output_type": "stream",
     "text": [
      "True\n",
      "False\n"
     ]
    }
   ],
   "source": [
    "import re\n",
    "\n",
    "pattern = r\"^Hello\"  # Matches strings that start with 'Hello'\n",
    "string1 = \"Hello world\"\n",
    "string2 = \"world Hello\"\n",
    "\n",
    "print(bool(re.search(pattern, string1)))  # Output: True\n",
    "print(bool(re.search(pattern, string2)))  # Output: False\n"
   ]
  },
  {
   "attachments": {},
   "cell_type": "markdown",
   "metadata": {},
   "source": [
    "The ^ character matches the start of the string. On the other hand, $ matches the end of the string.\n",
    "\n",
    "Character Sets ([]):"
   ]
  },
  {
   "cell_type": "code",
   "execution_count": 11,
   "metadata": {},
   "outputs": [
    {
     "name": "stdout",
     "output_type": "stream",
     "text": [
      "['H', 'W']\n"
     ]
    }
   ],
   "source": [
    "import re\n",
    "\n",
    "pattern = r\"[A-Z]\"  # Matches any uppercase letter\n",
    "string = \"Hello World\"\n",
    "\n",
    "matches = re.findall(pattern, string)\n",
    "print(matches)  # Output: ['H', 'W']\n"
   ]
  },
  {
   "attachments": {},
   "cell_type": "markdown",
   "metadata": {},
   "source": [
    "Here, [A-Z] matches any uppercase letter.\n",
    "\n",
    "Quantifiers (*, +, ?, {n}):"
   ]
  },
  {
   "cell_type": "code",
   "execution_count": 12,
   "metadata": {},
   "outputs": [
    {
     "name": "stdout",
     "output_type": "stream",
     "text": [
      "['aaa', 'aaa', 'aaa', 'aaa']\n"
     ]
    }
   ],
   "source": [
    "import re\n",
    "\n",
    "pattern = r\"a{3}\"  # Matches 'a' repeated exactly 3 times\n",
    "string = \"aaaa baa aaa aa a aaa aaaa\"\n",
    "\n",
    "matches = re.findall(pattern, string)\n",
    "print(matches)  # Output: ['aaa', 'aaa', 'aaa', 'aaa']\n"
   ]
  },
  {
   "attachments": {},
   "cell_type": "markdown",
   "metadata": {},
   "source": [
    "Quantifiers define how many times a character, group, or character set should be matched.\n",
    "\n",
    "Special Sequences (\\d, \\w, \\s, etc.):"
   ]
  },
  {
   "cell_type": "code",
   "execution_count": 13,
   "metadata": {},
   "outputs": [
    {
     "name": "stdout",
     "output_type": "stream",
     "text": [
      "['123', '456', '789']\n"
     ]
    }
   ],
   "source": [
    "import re\n",
    "\n",
    "pattern = r\"\\d+\"  # Matches one or more digits\n",
    "string = \"123 abc 456 def 789\"\n",
    "\n",
    "matches = re.findall(pattern, string)\n",
    "print(matches)  # Output: ['123', '456', '789']\n"
   ]
  },
  {
   "attachments": {},
   "cell_type": "markdown",
   "metadata": {},
   "source": [
    "n this example, \\d matches any digit, and + specifies one or more occurrences.\n",
    "\n",
    "Remember, these are just a few examples of regex patterns. Regular expressions are extremely flexible and powerful, capable of matching and manipulating complex patterns of text data."
   ]
  },
  {
   "attachments": {},
   "cell_type": "markdown",
   "metadata": {},
   "source": [
    "Extracting email addresses:"
   ]
  },
  {
   "cell_type": "code",
   "execution_count": 19,
   "metadata": {},
   "outputs": [
    {
     "name": "stdout",
     "output_type": "stream",
     "text": [
      "['example@gmail.com', 'test123@domain.co.uk']\n"
     ]
    }
   ],
   "source": [
    "import re\n",
    "\n",
    "pattern = r\"\\b[A-Za-z0-9._%+-]+@[A-Za-z0-9.-]+\\.[A-Z|a-z]{2,}\\b\"\n",
    "string = \"My emails are example@gmail.com and test123@domain.co.uk.\"\n",
    "\n",
    "matches = re.findall(pattern, string)\n",
    "print(matches)  \n"
   ]
  },
  {
   "attachments": {},
   "cell_type": "markdown",
   "metadata": {},
   "source": [
    "This regular expression matches any valid email address. The character set [A-Za-z0-9._%+-]+ matches the local part of the email. @ matches the at sign, [A-Za-z0-9.-]+ matches the domain name, and finally \\.[A-Z|a-z]{2,} matches a period followed by the top-level domain (like .com, .co.uk).\n",
    "\n",
    "\n",
    "Extracting dates in the YYYY-MM-DD format:"
   ]
  },
  {
   "cell_type": "code",
   "execution_count": 20,
   "metadata": {},
   "outputs": [
    {
     "name": "stdout",
     "output_type": "stream",
     "text": [
      "['2023-07-08', '2021-05-12']\n"
     ]
    }
   ],
   "source": [
    "import re\n",
    "\n",
    "pattern = r\"\\b\\d{4}-\\d{2}-\\d{2}\\b\"\n",
    "string = \"The dates are 2023-07-08, 2023.10.20,  and 2021-05-12.\"\n",
    "\n",
    "matches = re.findall(pattern, string)\n",
    "print(matches)  # Output: ['2023-07-08', '2021-05-12']\n"
   ]
  },
  {
   "attachments": {},
   "cell_type": "markdown",
   "metadata": {},
   "source": [
    "This regex pattern matches any date in the YYYY-MM-DD format. \\d{4} matches a four-digit year, followed by a dash. \\d{2} matches a two-digit month and day, separated by a dash."
   ]
  },
  {
   "attachments": {},
   "cell_type": "markdown",
   "metadata": {},
   "source": [
    "Validating a Password:\n",
    "\n",
    "Let's say you want to check if a password string is strong. For this example, a strong password is one that contains at least 8 characters, has both uppercase and lowercase characters, has at least one digit, and at least one special character."
   ]
  },
  {
   "cell_type": "code",
   "execution_count": 16,
   "metadata": {},
   "outputs": [
    {
     "name": "stdout",
     "output_type": "stream",
     "text": [
      "Strong password.\n"
     ]
    }
   ],
   "source": [
    "import re\n",
    "\n",
    "pattern = r\"^(?=.*[A-Z])(?=.*[a-z])(?=.*\\d)(?=.*[@$!%*#?&])[A-Za-z\\d@$!#%*?&]{8,}$\"\n",
    "password = \"Password123!\"\n",
    "\n",
    "match = re.match(pattern, password)\n",
    "if match:\n",
    "    print(\"Strong password.\")\n",
    "else:\n",
    "    print(\"Weak password.\")\n"
   ]
  },
  {
   "attachments": {},
   "cell_type": "markdown",
   "metadata": {},
   "source": [
    "Matching a Hexadecimal Color Code:\n",
    "\n",
    "Hexadecimal color codes are used in web development and design to specify colors. They consist of a hash sign # followed by 6 hexadecimal digits."
   ]
  },
  {
   "cell_type": "code",
   "execution_count": 17,
   "metadata": {},
   "outputs": [
    {
     "name": "stdout",
     "output_type": "stream",
     "text": [
      "Valid color code.\n"
     ]
    }
   ],
   "source": [
    "import re\n",
    "\n",
    "pattern = r\"^#(?:[0-9a-fA-F]{3}){1,2}$\"\n",
    "color_code = \"#1F1F1F\"\n",
    "\n",
    "match = re.match(pattern, color_code)\n",
    "if match:\n",
    "    print(\"Valid color code.\")\n",
    "else:\n",
    "    print(\"Invalid color code.\")\n"
   ]
  },
  {
   "cell_type": "markdown",
   "metadata": {},
   "source": [
    "# Exercise\n",
    "\n",
    "https://web.stanford.edu/~jurafsky/slp3/2.pdf\n",
    "\n",
    "1. All three letter words\n",
    "2. Dollar amounts like $8 and $3.99\n",
    "3. Two consecutive repeated words\n",
    "4. All single syllable words"
   ]
  }
 ],
 "metadata": {
  "kernelspec": {
   "display_name": "env",
   "language": "python",
   "name": "python3"
  },
  "language_info": {
   "codemirror_mode": {
    "name": "ipython",
    "version": 3
   },
   "file_extension": ".py",
   "mimetype": "text/x-python",
   "name": "python",
   "nbconvert_exporter": "python",
   "pygments_lexer": "ipython3",
   "version": "3.11.7"
  },
  "orig_nbformat": 4
 },
 "nbformat": 4,
 "nbformat_minor": 2
}
