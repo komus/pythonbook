{
 "cells": [
  {
   "attachments": {},
   "cell_type": "markdown",
   "metadata": {},
   "source": [
    "# Decorators\n",
    "\n",
    "Decorators allows programmers to modify the behaviour of a function or a class without modifying the function itself. It allows us to wrap a function with another function in order to extend the behaviour of a wrapped function. Examples of when to use decorators are: testing, performance benchmark, caching, verifying permissions, logging etc\n",
    "\n",
    "## Building blocks for decorators\n",
    "Decorators is built on some python concepts that we will explore in this section:\n",
    "\n",
    "1. Function can be stored in a variable\n",
    "\n",
    " A funtion is an instance of the object type i.e a function is an object because we can store a function in a variable\n",
    "\n",
    "  "
   ]
  },
  {
   "cell_type": "code",
   "execution_count": 3,
   "metadata": {},
   "outputs": [
    {
     "name": "stdout",
     "output_type": "stream",
     "text": [
      "Hello I am a function\n"
     ]
    }
   ],
   "source": [
    "def my_function():\n",
    "    print(\"Hello I am a function\")\n",
    "\n",
    "#passing function my_function to a variable val\n",
    "val = my_function\n",
    "val()"
   ]
  },
  {
   "cell_type": "code",
   "execution_count": 2,
   "metadata": {},
   "outputs": [
    {
     "name": "stdout",
     "output_type": "stream",
     "text": [
      "WE ARE LEARNING DECORATORS\n"
     ]
    }
   ],
   "source": [
    "def shout(text):\n",
    "    return text.upper()\n",
    "\n",
    "def silent(text):\n",
    "    return text.lower()\n",
    "\n",
    "# passing function shout to a variable yell\n",
    "yell = shout\n",
    "\n",
    "print(yell(\"We are learning decorators\"))"
   ]
  },
  {
   "attachments": {},
   "cell_type": "markdown",
   "metadata": {},
   "source": [
    "2. A function can be passed as an argument to another function\n",
    "\n",
    "In the below example, function `greeting` is accepting another function `shout` as a parameter"
   ]
  },
  {
   "cell_type": "code",
   "execution_count": 4,
   "metadata": {},
   "outputs": [
    {
     "name": "stdout",
     "output_type": "stream",
     "text": [
      "I AM HAILING YOU!!!\n"
     ]
    }
   ],
   "source": [
    "def greeting(func):\n",
    "    greet_ = func(\"I am hailing you!!!\")\n",
    "    print(greet_)\n",
    "\n",
    "greeting(shout)"
   ]
  },
  {
   "cell_type": "code",
   "execution_count": 5,
   "metadata": {},
   "outputs": [
    {
     "name": "stdout",
     "output_type": "stream",
     "text": [
      "The sum function returned: 33\n"
     ]
    }
   ],
   "source": [
    "def sum(a , b):\n",
    "    return a+b\n",
    "\n",
    "def do_somthing(func):\n",
    "    print(f\"The sum function returned: {func(10, 23)}\")\n",
    "\n",
    "do_somthing(sum)"
   ]
  },
  {
   "attachments": {},
   "cell_type": "markdown",
   "metadata": {},
   "source": [
    "3. A function can be nested within another function"
   ]
  },
  {
   "cell_type": "code",
   "execution_count": 6,
   "metadata": {},
   "outputs": [
    {
     "name": "stdout",
     "output_type": "stream",
     "text": [
      "The content of the outer function\n",
      "This is the inner function calling\n"
     ]
    }
   ],
   "source": [
    "def outer_func(): # main function\n",
    "    def inner_func(): # inner function within my outer function\n",
    "        print(\"This is the inner function calling\")\n",
    "    print(\"The content of the outer function\")\n",
    "    inner_func() # calling my inner function\n",
    "\n",
    "outer_func()"
   ]
  },
  {
   "attachments": {},
   "cell_type": "markdown",
   "metadata": {},
   "source": [
    "4. A nested function can be returned"
   ]
  },
  {
   "cell_type": "code",
   "execution_count": 7,
   "metadata": {},
   "outputs": [
    {
     "name": "stdout",
     "output_type": "stream",
     "text": [
      "From inner: A year of yes by Shonda Rhimes\n"
     ]
    }
   ],
   "source": [
    "def outer_function():\n",
    "    book = \"A year of yes by Shonda Rhimes\"\n",
    "    def inner():\n",
    "        print(f\"From inner: {book}\")\n",
    "    return inner() # returning the inner function\n",
    "\n",
    "outer_function() # call the function"
   ]
  },
  {
   "cell_type": "code",
   "execution_count": 9,
   "metadata": {},
   "outputs": [
    {
     "name": "stdout",
     "output_type": "stream",
     "text": [
      "50\n"
     ]
    }
   ],
   "source": [
    "def double(x):\n",
    "    double = x * 2\n",
    "    def add_y(y):\n",
    "        print(double + y)\n",
    "    return add_y\n",
    "\n",
    "#passing 20 into function double. double returns function add_y\n",
    "for_20 = double(20)\n",
    "for_20(10)\n"
   ]
  }
 ],
 "metadata": {
  "kernelspec": {
   "display_name": "Python 3",
   "language": "python",
   "name": "python3"
  },
  "language_info": {
   "codemirror_mode": {
    "name": "ipython",
    "version": 3
   },
   "file_extension": ".py",
   "mimetype": "text/x-python",
   "name": "python",
   "nbconvert_exporter": "python",
   "pygments_lexer": "ipython3",
   "version": "3.11.4"
  },
  "orig_nbformat": 4
 },
 "nbformat": 4,
 "nbformat_minor": 2
}
