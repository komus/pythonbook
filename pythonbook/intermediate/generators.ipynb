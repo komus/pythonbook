{
 "cells": [
  {
   "attachments": {},
   "cell_type": "markdown",
   "metadata": {},
   "source": [
    "# Generators\n",
    "In Python, generators are a type of iterable, like lists or tuples. Unlike lists, they don't allow indexing with arbitrary indices, but they can still be iterated through with for loops. They are created using functions and the yield keyword.\n",
    "\n",
    "A generator is a special kind of function that returns an iterator. It looks like a normal function except that it contains yield expressions for producing a series of values usable in a for-loop or retrievable one at a time through the next() function.\n",
    "\n",
    "Each yield temporarily suspends processing, remembers its location (all its local state), and returns a value. When a generator iterator’s next() method is called, it picks up where it left off (it remembers all the data values and which statement was last executed).\n",
    "\n",
    "Here is a simple example of a generator function:"
   ]
  },
  {
   "cell_type": "code",
   "execution_count": 1,
   "metadata": {},
   "outputs": [
    {
     "name": "stdout",
     "output_type": "stream",
     "text": [
      "1\n",
      "2\n",
      "3\n"
     ]
    }
   ],
   "source": [
    "def simple_generator():\n",
    "    yield 1\n",
    "    yield 2\n",
    "    yield 3\n",
    "\n",
    "for num in simple_generator():\n",
    "    print(num)\n"
   ]
  },
  {
   "attachments": {},
   "cell_type": "markdown",
   "metadata": {},
   "source": [
    "enerators are a great tool for memory management, as they allow you to create a function that returns one item at a time rather than all the items at once. This means that if you have a sequence of items that is too large to fit into memory, or that is costly to calculate, you can use a generator to produce the items one at a time on the fly as they're needed, rather than calculating them all up-front and storing them in a list.\n",
    "\n",
    "Another key generator feature is that once a generator's items have been consumed, they can't be consumed again. This is different from a list, which allows you to iterate over the items as many times as you want.\n",
    "\n",
    "Here is another example of a generator that generates the Fibonacci sequence:"
   ]
  },
  {
   "cell_type": "code",
   "execution_count": 2,
   "metadata": {},
   "outputs": [
    {
     "name": "stdout",
     "output_type": "stream",
     "text": [
      "0\n",
      "1\n",
      "1\n",
      "2\n",
      "3\n",
      "5\n"
     ]
    }
   ],
   "source": [
    "def fib():\n",
    "    a, b = 0, 1\n",
    "    while True:\n",
    "        yield a\n",
    "        a, b = b, a + b\n",
    "\n",
    "f = fib()\n",
    "\n",
    "print(next(f))  # 0\n",
    "print(next(f))  # 1\n",
    "print(next(f))  # 1\n",
    "print(next(f))  # 2\n",
    "print(next(f))  # 3\n",
    "print(next(f))  # 5\n"
   ]
  }
 ],
 "metadata": {
  "kernelspec": {
   "display_name": "env",
   "language": "python",
   "name": "python3"
  },
  "language_info": {
   "codemirror_mode": {
    "name": "ipython",
    "version": 3
   },
   "file_extension": ".py",
   "mimetype": "text/x-python",
   "name": "python",
   "nbconvert_exporter": "python",
   "pygments_lexer": "ipython3",
   "version": "3.10.9"
  },
  "orig_nbformat": 4
 },
 "nbformat": 4,
 "nbformat_minor": 2
}
