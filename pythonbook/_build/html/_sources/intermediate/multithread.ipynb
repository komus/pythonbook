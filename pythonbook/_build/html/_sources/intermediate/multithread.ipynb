{
 "cells": [
  {
   "cell_type": "code",
   "execution_count": 1,
   "metadata": {},
   "outputs": [
    {
     "name": "stdout",
     "output_type": "stream",
     "text": [
      "0\n",
      "1\n",
      "2\n",
      "3\n",
      "4\n",
      "5\n",
      "6\n",
      "7\n",
      "8\n",
      "9\n",
      "a\n",
      "b\n",
      "c\n",
      "d\n",
      "e\n",
      "f\n",
      "g\n",
      "h\n",
      "i\n",
      "j\n"
     ]
    }
   ],
   "source": [
    "import threading\n",
    "\n",
    "def print_numbers():\n",
    "    for i in range(10):\n",
    "        print(i)\n",
    "\n",
    "def print_letters():\n",
    "    for letter in 'abcdefghij':\n",
    "        print(letter)\n",
    "\n",
    "# Create threads\n",
    "thread1 = threading.Thread(target=print_numbers)\n",
    "thread2 = threading.Thread(target=print_letters)\n",
    "\n",
    "# Start threads\n",
    "thread1.start()\n",
    "thread2.start()\n",
    "\n",
    "# Join threads back to the parent process, which is this program\n",
    "thread1.join()\n",
    "thread2.join()\n"
   ]
  },
  {
   "attachments": {},
   "cell_type": "markdown",
   "metadata": {},
   "source": [
    "\n",
    "Multithreading is a way to concurrently run multiple threads. Threads are smaller units of a process. In Python, threading is mostly used for I/O-bound tasks, such as downloading files, reading from disk, or network operations, because Python threads are not well-suited for CPU-bound tasks due to the Global Interpreter Lock (GIL).\n",
    "\n",
    "In this example, print_numbers and print_letters are each run in their own thread. This means they will execute concurrently, leading to a mixed output of numbers and letters. The order of the output will likely be different each time the program is run because the threads are being scheduled to run by the operating system and may not start or finish at exactly the same time.\n",
    "\n",
    "You should be aware that multithreading in Python doesn't actually result in true parallel execution due to the Global Interpreter Lock (GIL). Python's GIL is a mutex (or a lock) that allows only one thread to execute at a time in a single process. Python uses the GIL to simplify memory management and to avoid conflicts among threads.\n",
    "\n",
    "For CPU-bound tasks where you do need parallelism, you should use multiprocessing (which involves separate processes, each with its own Python interpreter and its own GIL) instead of multithreading. You might also consider using a native extension such as Numba or Cython, or a different language that supports true multithreading.\n",
    "\n",
    "Keep in mind that multithreading can make a program more complex and more difficult to debug. It can lead to issues with shared state (where one thread changes a value another thread was expecting) and can cause race conditions, where the behavior of your program depends on the exact timing of events, which is generally not predictable. Before using multithreading, it's worth considering if there's a way to achieve the same result with simpler code."
   ]
  },
  {
   "attachments": {},
   "cell_type": "markdown",
   "metadata": {},
   "source": [
    "Creating multiple threads and passing arguments to the target function:"
   ]
  },
  {
   "cell_type": "code",
   "execution_count": 2,
   "metadata": {},
   "outputs": [
    {
     "name": "stdout",
     "output_type": "stream",
     "text": [
      "Hello\n",
      "Hello\n",
      "Hello\n",
      "Hello\n",
      "Hello\n",
      "Hello\n",
      "Hello\n",
      "Hello\n",
      "Hello\n",
      "Hello\n",
      "World\n",
      "World\n",
      "World\n",
      "World\n",
      "World\n",
      "World\n",
      "World\n",
      "World\n",
      "World\n",
      "World\n"
     ]
    }
   ],
   "source": [
    "import threading\n",
    "\n",
    "def print_message(message, times):\n",
    "    for i in range(times):\n",
    "        print(message)\n",
    "\n",
    "# Create threads\n",
    "thread1 = threading.Thread(target=print_message, args=(\"Hello\", 10))\n",
    "thread2 = threading.Thread(target=print_message, args=(\"World\", 10))\n",
    "\n",
    "# Start threads\n",
    "thread1.start()\n",
    "thread2.start()\n",
    "\n",
    "# Join threads back to the parent process\n",
    "thread1.join()\n",
    "thread2.join()\n"
   ]
  },
  {
   "attachments": {},
   "cell_type": "markdown",
   "metadata": {},
   "source": [
    "In this example, args is used to pass arguments to the target function.\n",
    "\n",
    "Using threads to speed up I/O-bound tasks (such as downloading web pages):"
   ]
  },
  {
   "cell_type": "code",
   "execution_count": 3,
   "metadata": {},
   "outputs": [
    {
     "name": "stdout",
     "output_type": "stream",
     "text": [
      "Got response 200 from http://www.microsoft.com\n",
      "Got response 200 from http://www.google.com\n",
      "Got response 503 from http://www.amazon.com\n",
      "Downloaded 3 in 0.43097758293151855 seconds\n"
     ]
    }
   ],
   "source": [
    "import requests\n",
    "import threading\n",
    "import time\n",
    "\n",
    "urls = [\n",
    "    \"http://www.google.com\",\n",
    "    \"http://www.microsoft.com\",\n",
    "    \"http://www.amazon.com\",\n",
    "    # Add more URLs as needed\n",
    "]\n",
    "\n",
    "def fetch_url(url):\n",
    "    response = requests.get(url)\n",
    "    print(f\"Got response {response.status_code} from {url}\")\n",
    "\n",
    "start_time = time.time()\n",
    "\n",
    "threads = []\n",
    "for url in urls:\n",
    "    thread = threading.Thread(target=fetch_url, args=(url,))\n",
    "    thread.start()\n",
    "    threads.append(thread)\n",
    "\n",
    "for thread in threads:\n",
    "    thread.join()\n",
    "\n",
    "end_time = time.time()\n",
    "print(f\"Downloaded {len(urls)} in {end_time - start_time} seconds\")\n"
   ]
  },
  {
   "attachments": {},
   "cell_type": "markdown",
   "metadata": {},
   "source": [
    "This program starts a new thread for each URL to be downloaded, which can speed up the total download time because downloads can happen concurrently."
   ]
  },
  {
   "attachments": {},
   "cell_type": "markdown",
   "metadata": {},
   "source": [
    "Multithreading with a subclass of Thread:\n",
    "In addition to passing a function to the Thread constructor, as shown in previous examples, you can also subclass Thread and override its run method."
   ]
  },
  {
   "cell_type": "code",
   "execution_count": 4,
   "metadata": {},
   "outputs": [
    {
     "name": "stdout",
     "output_type": "stream",
     "text": [
      "Thread 0 is going to sleep for 0 seconds.\n",
      "Thread 0 has woken up.\n",
      "Thread 1 is going to sleep for 1 seconds.\n",
      "Thread 2 is going to sleep for 2 seconds.\n",
      "Thread 3 is going to sleep for 3 seconds.\n",
      "Thread 4 is going to sleep for 4 seconds.\n",
      "Thread 1 has woken up.\n",
      "Thread 2 has woken up.\n",
      "Thread 3 has woken up.\n",
      "Thread 4 has woken up.\n"
     ]
    }
   ],
   "source": [
    "import threading\n",
    "import time\n",
    "\n",
    "class SleeperThread(threading.Thread):\n",
    "    def __init__(self, id, sleep_time):\n",
    "        super().__init__()\n",
    "        self.id = id\n",
    "        self.sleep_time = sleep_time\n",
    "\n",
    "    def run(self):\n",
    "        print(f\"Thread {self.id} is going to sleep for {self.sleep_time} seconds.\")\n",
    "        time.sleep(self.sleep_time)\n",
    "        print(f\"Thread {self.id} has woken up.\")\n",
    "\n",
    "# Create threads\n",
    "threads = []\n",
    "for i in range(5):\n",
    "    threads.append(SleeperThread(i, i))\n",
    "\n",
    "# Start threads\n",
    "for thread in threads:\n",
    "    thread.start()\n",
    "\n",
    "# Join threads back to the parent process\n",
    "for thread in threads:\n",
    "    thread.join()\n"
   ]
  },
  {
   "attachments": {},
   "cell_type": "markdown",
   "metadata": {},
   "source": [
    "This example defines a SleeperThread class that sleeps for a specified amount of time. Each thread is given a different sleep time, so they wake up at different times.\n",
    "\n",
    "Synchronizing threads with Lock:\n",
    "If you have multiple threads that need to modify shared state, you can use a Lock to ensure that only one thread modifies the state at a time. Here's an example where two threads increment a counter:"
   ]
  },
  {
   "cell_type": "code",
   "execution_count": 5,
   "metadata": {},
   "outputs": [
    {
     "name": "stdout",
     "output_type": "stream",
     "text": [
      "20000\n"
     ]
    }
   ],
   "source": [
    "import threading\n",
    "\n",
    "class Counter:\n",
    "    def __init__(self):\n",
    "        self.value = 0\n",
    "        self.lock = threading.Lock()\n",
    "\n",
    "    def increment(self):\n",
    "        with self.lock:\n",
    "            self.value += 1\n",
    "\n",
    "def worker(counter):\n",
    "    for _ in range(10000):\n",
    "        counter.increment()\n",
    "\n",
    "counter = Counter()\n",
    "threads = []\n",
    "\n",
    "# Start threads\n",
    "for _ in range(2):\n",
    "    thread = threading.Thread(target=worker, args=(counter,))\n",
    "    thread.start()\n",
    "    threads.append(thread)\n",
    "\n",
    "# Join threads back to the parent process\n",
    "for thread in threads:\n",
    "    thread.join()\n",
    "\n",
    "print(counter.value)\n"
   ]
  },
  {
   "attachments": {},
   "cell_type": "markdown",
   "metadata": {},
   "source": [
    "In this example, the increment method uses a Lock to prevent two threads from modifying self.value at the same time. If you run this program, you should see that the final value of the counter is 20,000, as expected. If you removed the lock, the final value could be less than 20,000 due to race conditions."
   ]
  },
  {
   "attachments": {},
   "cell_type": "markdown",
   "metadata": {},
   "source": []
  }
 ],
 "metadata": {
  "kernelspec": {
   "display_name": "Python 3",
   "language": "python",
   "name": "python3"
  },
  "language_info": {
   "codemirror_mode": {
    "name": "ipython",
    "version": 3
   },
   "file_extension": ".py",
   "mimetype": "text/x-python",
   "name": "python",
   "nbconvert_exporter": "python",
   "pygments_lexer": "ipython3",
   "version": "3.11.4"
  },
  "orig_nbformat": 4
 },
 "nbformat": 4,
 "nbformat_minor": 2
}
