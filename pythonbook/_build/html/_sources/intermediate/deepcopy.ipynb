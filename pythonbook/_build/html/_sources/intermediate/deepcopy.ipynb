{
 "cells": [
  {
   "attachments": {},
   "cell_type": "markdown",
   "metadata": {},
   "source": [
    "# Deep vs shallow copy\n",
    "\n",
    "= works on compound object\n",
    "Shallow copy \n",
    "Deep copy \n",
    "\n",
    "## Shallow copy\n",
    "Shallow copy copies the object but not the elements. It creates/constructs a new object, then inserts references into its object found in the original. Copied object shares the individual element\n",
    "\n",
    "## Deep copy\n",
    "recursively copies then objects and makes a deep copy. "
   ]
  },
  {
   "cell_type": "code",
   "execution_count": null,
   "metadata": {},
   "outputs": [],
   "source": []
  }
 ],
 "metadata": {
  "language_info": {
   "name": "python"
  },
  "orig_nbformat": 4
 },
 "nbformat": 4,
 "nbformat_minor": 2
}
