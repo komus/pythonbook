{
 "cells": [
  {
   "attachments": {},
   "cell_type": "markdown",
   "metadata": {},
   "source": [
    "# Data class\n",
    "\n",
    "- Is a class typically containing mainly data\n",
    "- comes with basic functionalities already implemented\n",
    "- create a dataclass with decorator @dataclass\n",
    "- In a data class, when you specify properties/fields, the decorator automatically generates all the code needed to implement them"
   ]
  },
  {
   "cell_type": "code",
   "execution_count": null,
   "metadata": {},
   "outputs": [],
   "source": []
  }
 ],
 "metadata": {
  "language_info": {
   "name": "python"
  },
  "orig_nbformat": 4
 },
 "nbformat": 4,
 "nbformat_minor": 2
}
