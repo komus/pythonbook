{
 "cells": [
  {
   "attachments": {},
   "cell_type": "markdown",
   "metadata": {},
   "source": [
    "# OOP - object oriented programming\n",
    "\n",
    "A class is a blueprint, an object is an instance of a class.\n",
    "An object has attributes/characteristics and methods/behavior\n",
    "\n",
    "- Abstraction - Used as features for other classes. It is meant to inherited from but not instantiated. Narrowing down to the essential features that are critical to an object. It is a generalization class\n",
    "- encapsulation - hiding access to private details of an object\n",
    "- polymorphism - the ability to use the same interface for objects of different types\n",
    "- Inheritance - Extending another class. Single inheritance, multiple inheritance"
   ]
  },
  {
   "cell_type": "code",
   "execution_count": null,
   "metadata": {},
   "outputs": [],
   "source": []
  }
 ],
 "metadata": {
  "language_info": {
   "name": "python"
  },
  "orig_nbformat": 4
 },
 "nbformat": 4,
 "nbformat_minor": 2
}
