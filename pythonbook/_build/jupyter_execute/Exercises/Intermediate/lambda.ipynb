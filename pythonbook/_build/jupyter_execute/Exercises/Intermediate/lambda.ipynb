{
 "cells": [
  {
   "attachments": {},
   "cell_type": "markdown",
   "metadata": {},
   "source": [
    "# Lambda Exercises\n",
    "\n",
    "1. Imagine an accounting routine used in a book shop. It works on a list with sublists, which look like this:\n",
    "\n",
    "Order Number   Book Title and Author              Quantity     Price per Item\n",
    "\n",
    "34587           Learning Python, Mark Lutz             4          40.95\n",
    "98762           Programming Python, Mark Lutz          5          56.80\n",
    "77226           Head First Python, Paul Barry          3          32.95\n",
    "88112           Einführung in Python3, Bernd Klein     3          24.99\n",
    "\n",
    "Write a Python program, which returns a list with 2-tuples. Each tuple consists of a the order number and the product of the price per items and the quantity. The product should be increased by 10,- € if the value of the order is smaller than 100,00 €.\n",
    "Write a Python program using lambda and map.\n"
   ]
  },
  {
   "attachments": {},
   "cell_type": "markdown",
   "metadata": {},
   "source": []
  }
 ],
 "metadata": {
  "language_info": {
   "codemirror_mode": {
    "name": "ipython",
    "version": 3
   },
   "file_extension": ".py",
   "mimetype": "text/x-python",
   "name": "python",
   "nbconvert_exporter": "python",
   "pygments_lexer": "ipython3",
   "version": "3.11.7"
  }
 },
 "nbformat": 4,
 "nbformat_minor": 2
}