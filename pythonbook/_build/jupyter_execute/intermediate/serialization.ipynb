{
 "cells": [
  {
   "attachments": {},
   "cell_type": "markdown",
   "metadata": {},
   "source": [
    "# Serialization\n",
    "\n",
    "Serialization is the process of converting strutured data to a format that allows for storage or sharing. You can save the data as flat or nested data"
   ]
  },
  {
   "attachments": {},
   "cell_type": "markdown",
   "metadata": {},
   "source": [
    "## Pickle\n",
    "This is a native serialization module in python. Pickling is the process whereby a python object hierarchy is converted into a byte stream. Pickle saves the data as a nested data structure\n",
    "\n",
    "It is important to note that pickle is not secure against erroneous or malicious constructed data. Therefore, NEVER unpickle data received from an untrusted or unauthenticated source\n",
    "\n",
    "To use pickle, you first need to import it. "
   ]
  },
  {
   "cell_type": "code",
   "execution_count": 1,
   "metadata": {},
   "outputs": [],
   "source": [
    "import pickle"
   ]
  },
  {
   "cell_type": "code",
   "execution_count": 2,
   "metadata": {},
   "outputs": [],
   "source": [
    "data = {\n",
    "    \"Man U\": ['Sancho', 'Rashford', 'Antony'],\n",
    "    \"Tottenham\": ['kulusevski', 'Kane', 'Son'],\n",
    "    \"New Castle\": [\"Gordon\", \"Wilson\", \"Almiron\"]\n",
    "}\n",
    "# serialization\n",
    "with open('london_players.pickle', 'wb') as f:\n",
    "    pickle.dump(data, f) # save the data"
   ]
  },
  {
   "attachments": {},
   "cell_type": "markdown",
   "metadata": {},
   "source": [
    "Here, we are saving the dictionary `data` into a pickle file called `london_players.pickle`. `wb` is used because pickle converts data into a byte stream\n",
    "\n",
    "To deserialize a pickle file, the function `load()` is called"
   ]
  },
  {
   "cell_type": "code",
   "execution_count": 3,
   "metadata": {},
   "outputs": [
    {
     "name": "stdout",
     "output_type": "stream",
     "text": [
      "{'Man U': ['Sancho', 'Rashford', 'Antony'], 'Tottenham': ['kulusevski', 'Kane', 'Son'], 'New Castle': ['Gordon', 'Wilson', 'Almiron']}\n"
     ]
    }
   ],
   "source": [
    "#deserialization\n",
    "with open('london_players.pickle', 'rb') as f:\n",
    "    record = pickle.load(f)\n",
    "\n",
    "print(record)"
   ]
  }
 ],
 "metadata": {
  "kernelspec": {
   "display_name": "Python 3",
   "language": "python",
   "name": "python3"
  },
  "language_info": {
   "codemirror_mode": {
    "name": "ipython",
    "version": 3
   },
   "file_extension": ".py",
   "mimetype": "text/x-python",
   "name": "python",
   "nbconvert_exporter": "python",
   "pygments_lexer": "ipython3",
   "version": "3.11.7"
  }
 },
 "nbformat": 4,
 "nbformat_minor": 2
}