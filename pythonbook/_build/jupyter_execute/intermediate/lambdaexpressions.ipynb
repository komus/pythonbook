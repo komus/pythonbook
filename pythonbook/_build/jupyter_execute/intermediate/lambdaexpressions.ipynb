{
 "cells": [
  {
   "attachments": {},
   "cell_type": "markdown",
   "metadata": {},
   "source": [
    "# Lambda Expressions\n",
    "\n",
    "Lambda expressions is an anonymous function i.e it allows you to create anonymous functions. Anonymous functions are defined without a name and doesnt use the `def` keyword. \n",
    "\n",
    "while normal functions are defined with the `def` keyword, anonymous functions are defined using `lambda` keyword. \n",
    "\n",
    "Lambda functions can have any number of arguments but only one expression, which is evaluated and returned. Also, lambda functions are used when we require a nameless function for a short period of time.\n",
    "\n",
    "The general syntax of a lambda function is:\n",
    "\n",
    "```python\n",
    "lambda arguments: expression\n",
    "```\n",
    "\n",
    "The keyword lambda is followed by:\n",
    "- argument(s)\n",
    "- colon\n",
    "- then single expression"
   ]
  },
  {
   "attachments": {},
   "cell_type": "markdown",
   "metadata": {},
   "source": [
    "## Examples\n",
    "\n",
    "Example 1: A simple lambda function that adds 10 to the number passed in as an argument, and prints the result:"
   ]
  },
  {
   "cell_type": "code",
   "execution_count": 1,
   "metadata": {},
   "outputs": [
    {
     "name": "stdout",
     "output_type": "stream",
     "text": [
      "17\n"
     ]
    }
   ],
   "source": [
    "x = lambda a: a + 10\n",
    "print(x(7))"
   ]
  },
  {
   "attachments": {},
   "cell_type": "markdown",
   "metadata": {},
   "source": [
    "Example 2: Lambda functions can take any number of arguments. Here is a lambda function that multiplies the arguments and prints the result:"
   ]
  },
  {
   "cell_type": "code",
   "execution_count": 2,
   "metadata": {},
   "outputs": [
    {
     "name": "stdout",
     "output_type": "stream",
     "text": [
      "448\n"
     ]
    }
   ],
   "source": [
    "x = lambda a, b, c : a * b * c\n",
    "print(x(7, 8, 8))"
   ]
  },
  {
   "attachments": {},
   "cell_type": "markdown",
   "metadata": {},
   "source": [
    "Example 3: You can also use lambda functions inside other functions. Here is an example of a function definition that returns a lambda function:"
   ]
  },
  {
   "cell_type": "code",
   "execution_count": 3,
   "metadata": {},
   "outputs": [
    {
     "name": "stdout",
     "output_type": "stream",
     "text": [
      "22\n"
     ]
    }
   ],
   "source": [
    "def myfunc(n):\n",
    "  return lambda a : a * n\n",
    "\n",
    "mydoubler = myfunc(2)\n",
    "print(mydoubler(11))"
   ]
  },
  {
   "attachments": {},
   "cell_type": "markdown",
   "metadata": {},
   "source": [
    "## Applications of Lambda\n",
    "Lambda functions are generally used with the `map()`, `filter()` and `reduce()` functions, or any other time you want a function object. They are especially powerful when used in combination with functions like `map()`, `filter()`, and `reduce()` which require function objects as arguments."
   ]
  },
  {
   "attachments": {},
   "cell_type": "markdown",
   "metadata": {},
   "source": [
    "### Map\n",
    "The `map()` function applies a given function to each item of an iterable (like list, tuple etc.) and returns a list of the results.\n",
    "\n",
    "Suppose you have a list of numbers, and you want to square each number in the list. You could do it like this:"
   ]
  },
  {
   "cell_type": "code",
   "execution_count": 4,
   "metadata": {},
   "outputs": [
    {
     "name": "stdout",
     "output_type": "stream",
     "text": [
      "[1, 4, 9, 16]\n"
     ]
    }
   ],
   "source": [
    "numbers = [1, 2, 3, 4]\n",
    "squared = map(lambda x: x ** 2, numbers)\n",
    "print(list(squared))  "
   ]
  },
  {
   "attachments": {},
   "cell_type": "markdown",
   "metadata": {},
   "source": [
    "Here, the lambda function takes each element of numbers as x and returns x ** 2 (x squared).\n",
    "\n",
    "Another Example: Get a new list that contains the lengths of each string from an initial string"
   ]
  },
  {
   "cell_type": "code",
   "execution_count": 5,
   "metadata": {},
   "outputs": [
    {
     "name": "stdout",
     "output_type": "stream",
     "text": [
      "[5, 6, 6]\n"
     ]
    }
   ],
   "source": [
    "words = [\"apple\", \"banana\", \"cherry\"]\n",
    "lengths = map(lambda word: len(word), words)\n",
    "print(list(lengths))"
   ]
  },
  {
   "attachments": {},
   "cell_type": "markdown",
   "metadata": {},
   "source": [
    "### Filter\n",
    "The `filter()` function constructs an iterator from elements of an iterable for which a function returns true.\n",
    "\n",
    "For example, suppose you have a list of numbers and you want to filter out the numbers which are greater than 5. You can use the filter() function with a lambda function like this:"
   ]
  },
  {
   "cell_type": "code",
   "execution_count": 6,
   "metadata": {},
   "outputs": [
    {
     "name": "stdout",
     "output_type": "stream",
     "text": [
      "[10, 6, 7]\n"
     ]
    }
   ],
   "source": [
    "numbers = [1, 2, 10, 6, 4, 7]\n",
    "greater_than_five = filter(lambda x: x > 5, numbers)\n",
    "print(list(greater_than_five)) "
   ]
  },
  {
   "attachments": {},
   "cell_type": "markdown",
   "metadata": {},
   "source": [
    "Another example, get odd numbers from a list"
   ]
  },
  {
   "cell_type": "code",
   "execution_count": 7,
   "metadata": {},
   "outputs": [
    {
     "data": {
      "text/plain": [
       "[1, 7]"
      ]
     },
     "execution_count": 7,
     "metadata": {},
     "output_type": "execute_result"
    }
   ],
   "source": [
    "odds = list(filter(lambda x:x % 2 != 0, numbers ))\n",
    "odds"
   ]
  },
  {
   "attachments": {},
   "cell_type": "markdown",
   "metadata": {},
   "source": [
    "### Reduce\n",
    "\n",
    "The `reduce()` function is a bit different from `map()` and `filter()`. It doesn't return a new list, but it returns a single value.\n",
    "\n",
    "`reduce()` applies a function of two arguments cumulatively to the elements of an iterable in a way that it reduces the iterable to a single output. i.e it processes the elements of the collection from left to right. It takes the first two elements of the collection and returns the result of the transformation. Then, it uses the result of the previous step and the next value in the list for the computation. This is done while items still exist in the list\n",
    "\n",
    "For example: Find the product of numbers in a list"
   ]
  },
  {
   "cell_type": "code",
   "execution_count": 8,
   "metadata": {},
   "outputs": [
    {
     "data": {
      "text/plain": [
       "24"
      ]
     },
     "execution_count": 8,
     "metadata": {},
     "output_type": "execute_result"
    }
   ],
   "source": [
    "from functools import reduce\n",
    "\n",
    "numbers = [1,2,3,4]\n",
    "product = reduce(lambda x, y: x * y, numbers)\n",
    "product"
   ]
  },
  {
   "attachments": {},
   "cell_type": "markdown",
   "metadata": {},
   "source": [
    "In this example, the lambda function takes two arguments x and y and returns their product. The reduce() function applies this lambda function cumulatively to the elements of numbers, so as to combine them all into a single output.\n",
    "\n",
    "```\n",
    "    1 * 2 = 2\n",
    "    2 * 3 = 6\n",
    "    6 * 4 = 24\n",
    "```\n"
   ]
  },
  {
   "attachments": {},
   "cell_type": "markdown",
   "metadata": {},
   "source": [
    "Example: Determining the maximum number"
   ]
  },
  {
   "cell_type": "code",
   "execution_count": 9,
   "metadata": {},
   "outputs": [
    {
     "data": {
      "text/plain": [
       "79"
      ]
     },
     "execution_count": 9,
     "metadata": {},
     "output_type": "execute_result"
    }
   ],
   "source": [
    "num_list = [23,34,56,78,79,34,56,3,35,67]\n",
    "data = reduce(lambda a,b: a if (a > b) else b, num_list)\n",
    "data"
   ]
  },
  {
   "attachments": {},
   "cell_type": "markdown",
   "metadata": {},
   "source": [
    "Example: Find the sum of key `count` in a dictionary"
   ]
  },
  {
   "cell_type": "code",
   "execution_count": 10,
   "metadata": {},
   "outputs": [
    {
     "data": {
      "text/plain": [
       "21"
      ]
     },
     "execution_count": 10,
     "metadata": {},
     "output_type": "execute_result"
    }
   ],
   "source": [
    "data = [\n",
    "    {\n",
    "        'item': 'apple', \n",
    "        'count': 10\n",
    "    }, \n",
    "    {\n",
    "        'item': 'banana', \n",
    "        'count': 5\n",
    "    }, \n",
    "    {\n",
    "         'item': 'cherry',\n",
    "         'count': 6\n",
    "    }]\n",
    "\n",
    "total = reduce(lambda x,y: x + y['count'], data, 0)\n",
    "total"
   ]
  },
  {
   "attachments": {},
   "cell_type": "markdown",
   "metadata": {},
   "source": [
    "the lambda function takes two arguments x and y. x is the accumulated value (initialized to 0 in this case, as indicated by the third argument to reduce()), and y is the current dictionary from data. The function adds the 'count' value from the current dictionary to the accumulated total."
   ]
  },
  {
   "attachments": {},
   "cell_type": "markdown",
   "metadata": {},
   "source": [
    "# Drawbacks of Lambda\n",
    "\n",
    "- Lambda expressions may affect the readability of code\n",
    "- Lambda functions are limited in their complexity as they can only evaluate a single expression and cannot include statements. This makes them unsuitable for larger, more complex functions\n",
    "- Lambda functions can't use certain Python statements like `assert` or `pass`.\n",
    "- Lambdas can't have docstrings, and therefore are not as self-explanatory as well-documented regular functions\n",
    "- The traceback of an exception raised in a lambda expressions identifies the function causing the exceptions as `<lambda>` because lambda functions are anonymous. Therefore, Debugging can be more challenging . They don't have a name, so error messages related to them can be less informative\n",
    "\n",
    "\n",
    "While lambda functions have their place for simple, one-off functionality, for anything beyond that, it's typically best to use regular Python functions. This will make your code more modular, easier to read, easier to debug, and generally more maintainable."
   ]
  }
 ],
 "metadata": {
  "kernelspec": {
   "display_name": "env",
   "language": "python",
   "name": "python3"
  },
  "language_info": {
   "codemirror_mode": {
    "name": "ipython",
    "version": 3
   },
   "file_extension": ".py",
   "mimetype": "text/x-python",
   "name": "python",
   "nbconvert_exporter": "python",
   "pygments_lexer": "ipython3",
   "version": "3.11.7"
  }
 },
 "nbformat": 4,
 "nbformat_minor": 2
}