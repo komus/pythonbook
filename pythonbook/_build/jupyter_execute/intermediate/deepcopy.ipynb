{
 "cells": [
  {
   "attachments": {},
   "cell_type": "markdown",
   "metadata": {},
   "source": [
    "# Deep vs shallow copy\n",
    "\n",
    "= works on compound object\n",
    "Shallow copy \n",
    "Deep copy \n",
    "\n",
    "## Shallow copy\n",
    "Shallow copy copies the object but not the elements. It creates/constructs a new object, then inserts references into its object found in the original. Copied object shares the individual element\n",
    "\n",
    "## Deep copy\n",
    "recursively copies then objects and makes a deep copy. "
   ]
  },
  {
   "cell_type": "code",
   "execution_count": null,
   "metadata": {},
   "outputs": [],
   "source": []
  }
 ],
 "metadata": {
  "language_info": {
   "codemirror_mode": {
    "name": "ipython",
    "version": 3
   },
   "file_extension": ".py",
   "mimetype": "text/x-python",
   "name": "python",
   "nbconvert_exporter": "python",
   "pygments_lexer": "ipython3",
   "version": "3.11.7"
  }
 },
 "nbformat": 4,
 "nbformat_minor": 2
}