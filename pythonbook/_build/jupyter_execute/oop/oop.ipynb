{
 "cells": [
  {
   "attachments": {},
   "cell_type": "markdown",
   "metadata": {},
   "source": [
    "# OOP - object oriented programming\n",
    "\n",
    "A class is a blueprint, an object is an instance of a class.\n",
    "An object has attributes/characteristics and methods/behavior\n",
    "\n",
    "- Abstraction - Used as features for other classes. It is meant to inherited from but not instantiated. Narrowing down to the essential features that are critical to an object. It is a generalization class\n",
    "- encapsulation - hiding access to private details of an object\n",
    "- polymorphism - the ability to use the same interface for objects of different types\n",
    "- Inheritance - Extending another class. Single inheritance, multiple inheritance"
   ]
  },
  {
   "cell_type": "code",
   "execution_count": null,
   "metadata": {},
   "outputs": [],
   "source": []
  }
 ],
 "metadata": {
  "language_info": {
   "codemirror_mode": {
    "name": "ipython",
    "version": 3
   },
   "file_extension": ".py",
   "mimetype": "text/x-python",
   "name": "python",
   "nbconvert_exporter": "python",
   "pygments_lexer": "ipython3",
   "version": "3.11.7"
  }
 },
 "nbformat": 4,
 "nbformat_minor": 2
}