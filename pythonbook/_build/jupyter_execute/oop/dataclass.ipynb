{
 "cells": [
  {
   "attachments": {},
   "cell_type": "markdown",
   "metadata": {},
   "source": [
    "# Data class\n",
    "\n",
    "- Is a class typically containing mainly data\n",
    "- comes with basic functionalities already implemented\n",
    "- create a dataclass with decorator @dataclass\n",
    "- In a data class, when you specify properties/fields, the decorator automatically generates all the code needed to implement them"
   ]
  },
  {
   "cell_type": "code",
   "execution_count": null,
   "metadata": {},
   "outputs": [],
   "source": []
  }
 ],
 "metadata": {
  "language_info": {
   "codemirror_mode": {
    "name": "ipython",
    "version": 3
   },
   "file_extension": ".py",
   "mimetype": "text/x-python",
   "name": "python",
   "nbconvert_exporter": "python",
   "pygments_lexer": "ipython3",
   "version": "3.11.7"
  }
 },
 "nbformat": 4,
 "nbformat_minor": 2
}